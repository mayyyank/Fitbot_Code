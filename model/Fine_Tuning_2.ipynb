{
 "cells": [
  {
   "cell_type": "code",
   "execution_count": 1,
   "id": "e75d9f24-b798-4de8-90ca-53d7c840592f",
   "metadata": {},
   "outputs": [],
   "source": [
    "import pandas as pd\n",
    "from transformers import GPT2LMHeadModel, GPT2TokenizerFast, Trainer, TrainingArguments, DataCollatorForLanguageModeling,pipeline\n",
    "from datasets import load_dataset,DatasetDict,Dataset\n",
    "import os\n",
    "import torch\n",
    "import numpy as np"
   ]
  },
  {
   "cell_type": "code",
   "execution_count": 2,
   "id": "7248a4aa-9b3a-4fe4-a3f6-8bb8e48c288e",
   "metadata": {},
   "outputs": [],
   "source": [
    "# # Disable Weights & Biases logging\n",
    "# os.environ['WANDB_DISABLED'] = 'TRUE'"
   ]
  },
  {
   "cell_type": "code",
   "execution_count": 3,
   "id": "b30b2706-d94e-4d05-b0ff-f23f1f34f250",
   "metadata": {},
   "outputs": [
    {
     "name": "stdout",
     "output_type": "stream",
     "text": [
      "Using device: cpu\n"
     ]
    }
   ],
   "source": [
    "# Check device availability and set the model to use GPU/CPU accordingly\n",
    "device = \"cuda\" if torch.cuda.is_available() else \"cpu\"\n",
    "print(f\"Using device: {device}\")"
   ]
  },
  {
   "cell_type": "markdown",
   "id": "96d64581-34d8-4565-a888-65698a6526c5",
   "metadata": {},
   "source": [
    "## Loading model"
   ]
  },
  {
   "cell_type": "code",
   "execution_count": 4,
   "id": "a5a008b4-d843-48f0-a7e5-d8b40f31aea8",
   "metadata": {},
   "outputs": [],
   "source": [
    "model=GPT2LMHeadModel.from_pretrained('gpt2').to(device)\n",
    "tokenizer=GPT2TokenizerFast.from_pretrained('gpt2')\n",
    "tokenizer.pad_token=tokenizer.eos_token # set eos as pad token\n",
    "model.config.pad_token_id=tokenizer.pad_token_id"
   ]
  },
  {
   "cell_type": "markdown",
   "id": "5073fec0-eb39-46d9-864c-fef1d95e1740",
   "metadata": {},
   "source": [
    "## Loading dataset"
   ]
  },
  {
   "cell_type": "code",
   "execution_count": 5,
   "id": "e99b740b-47b1-4e16-9238-4e86a23b12a2",
   "metadata": {},
   "outputs": [],
   "source": [
    "dataset_dict=load_dataset('csv',data_files={'train':'training.csv','test':'testing.csv'})\n",
    "train_dataset=dataset_dict['train']\n",
    "test_dataset=dataset_dict['test']"
   ]
  },
  {
   "cell_type": "code",
   "execution_count": 6,
   "id": "74f93292-d192-4c29-b15b-db99272c555b",
   "metadata": {},
   "outputs": [
    {
     "data": {
      "text/plain": [
       "Dataset({\n",
       "    features: ['question', 'answer'],\n",
       "    num_rows: 2457\n",
       "})"
      ]
     },
     "execution_count": 6,
     "metadata": {},
     "output_type": "execute_result"
    }
   ],
   "source": [
    "train_dataset"
   ]
  },
  {
   "cell_type": "code",
   "execution_count": 7,
   "id": "dd48ae68-a95a-4cdf-92fd-8cfa70ab8106",
   "metadata": {},
   "outputs": [
    {
     "data": {
      "text/plain": [
       "Dataset({\n",
       "    features: ['question', 'answer'],\n",
       "    num_rows: 274\n",
       "})"
      ]
     },
     "execution_count": 7,
     "metadata": {},
     "output_type": "execute_result"
    }
   ],
   "source": [
    "test_dataset"
   ]
  },
  {
   "cell_type": "markdown",
   "id": "5c2359cf-718a-4c3e-9c0e-e29c6c328d60",
   "metadata": {},
   "source": [
    "## concat question and answer into single text string"
   ]
  },
  {
   "cell_type": "code",
   "execution_count": 8,
   "id": "7f26c8f9-e94e-43b1-ae9a-d91e31f6aff7",
   "metadata": {},
   "outputs": [],
   "source": [
    "def format_example(example):\n",
    "    formatted_text = f\"Question: {example['question']} Answer: {example['answer']} <|endoftext|>\"\n",
    "    # return dictionary with new column 'text'\n",
    "    return {'text': formatted_text}"
   ]
  },
  {
   "cell_type": "code",
   "execution_count": 9,
   "id": "6e32dcaa-cd44-4799-a96a-99b9809a79ae",
   "metadata": {},
   "outputs": [],
   "source": [
    "train_dataset=train_dataset.map(format_example)\n",
    "test_dataset=test_dataset.map(format_example)"
   ]
  },
  {
   "cell_type": "code",
   "execution_count": 10,
   "id": "ec6c66b5-1f77-481d-b35d-b22d5b8d3a9f",
   "metadata": {},
   "outputs": [
    {
     "data": {
      "text/plain": [
       "'tell be about lying cable biceps curl'"
      ]
     },
     "execution_count": 10,
     "metadata": {},
     "output_type": "execute_result"
    }
   ],
   "source": [
    "train_dataset['question'][1]"
   ]
  },
  {
   "cell_type": "code",
   "execution_count": 11,
   "id": "82eb12d6-e03a-4dae-8db7-d94d14a8b07c",
   "metadata": {},
   "outputs": [
    {
     "data": {
      "text/plain": [
       "'the lying cable biceps curl is a cable exercise that targets the biceps it is performed lying on the back either on a bench or the ground with the feet facing toward a cable stack this movement is usually performed for moderate to high reps for a burn and pump as part of an armfocused workout'"
      ]
     },
     "execution_count": 11,
     "metadata": {},
     "output_type": "execute_result"
    }
   ],
   "source": [
    "train_dataset['answer'][1]"
   ]
  },
  {
   "cell_type": "code",
   "execution_count": 12,
   "id": "0da3410a-49b7-4cd9-81d8-64e833d2fc9b",
   "metadata": {},
   "outputs": [
    {
     "data": {
      "text/plain": [
       "'can injury prevention for shoulders help with injury prevention'"
      ]
     },
     "execution_count": 12,
     "metadata": {},
     "output_type": "execute_result"
    }
   ],
   "source": [
    "test_dataset['question'][1]"
   ]
  },
  {
   "cell_type": "code",
   "execution_count": 13,
   "id": "5076edc2-ed03-4879-bbbd-bdcf65e24feb",
   "metadata": {},
   "outputs": [
    {
     "data": {
      "text/plain": [
       "'yes injury prevention for shoulders can prevent injuries by improving muscle imbalances and joint stability'"
      ]
     },
     "execution_count": 13,
     "metadata": {},
     "output_type": "execute_result"
    }
   ],
   "source": [
    "test_dataset['answer'][1]"
   ]
  },
  {
   "cell_type": "code",
   "execution_count": 14,
   "id": "d347e2ca-9f9c-4af7-a5d2-17cdd5c64707",
   "metadata": {},
   "outputs": [
    {
     "data": {
      "text/plain": [
       "'Question: tell be about lying cable biceps curl Answer: the lying cable biceps curl is a cable exercise that targets the biceps it is performed lying on the back either on a bench or the ground with the feet facing toward a cable stack this movement is usually performed for moderate to high reps for a burn and pump as part of an armfocused workout <|endoftext|>'"
      ]
     },
     "execution_count": 14,
     "metadata": {},
     "output_type": "execute_result"
    }
   ],
   "source": [
    "train_dataset['text'][1]"
   ]
  },
  {
   "cell_type": "markdown",
   "id": "5504be02-8112-4834-9f3a-a3ee7d83e490",
   "metadata": {},
   "source": [
    "## combine split dataset into a single datasetdictm"
   ]
  },
  {
   "cell_type": "code",
   "execution_count": 15,
   "id": "4811506e-b926-4b2b-b6d4-c8a0c746068a",
   "metadata": {},
   "outputs": [],
   "source": [
    "split_datasets=DatasetDict({\n",
    "    'train':train_dataset,\n",
    "    'test':test_dataset,\n",
    "    'val':test_dataset\n",
    "})"
   ]
  },
  {
   "cell_type": "code",
   "execution_count": 16,
   "id": "f1afbe97-78ad-4699-90a4-fa711276af6c",
   "metadata": {},
   "outputs": [
    {
     "data": {
      "text/plain": [
       "DatasetDict({\n",
       "    train: Dataset({\n",
       "        features: ['question', 'answer', 'text'],\n",
       "        num_rows: 2457\n",
       "    })\n",
       "    test: Dataset({\n",
       "        features: ['question', 'answer', 'text'],\n",
       "        num_rows: 274\n",
       "    })\n",
       "    val: Dataset({\n",
       "        features: ['question', 'answer', 'text'],\n",
       "        num_rows: 274\n",
       "    })\n",
       "})"
      ]
     },
     "execution_count": 16,
     "metadata": {},
     "output_type": "execute_result"
    }
   ],
   "source": [
    "split_datasets"
   ]
  },
  {
   "cell_type": "code",
   "execution_count": 17,
   "id": "c8ee817a-c149-4488-b5cc-80378053aab7",
   "metadata": {},
   "outputs": [
    {
     "data": {
      "text/plain": [
       "'tell be about lying cable biceps curl'"
      ]
     },
     "execution_count": 17,
     "metadata": {},
     "output_type": "execute_result"
    }
   ],
   "source": [
    "split_datasets['train']['question'][1]"
   ]
  },
  {
   "cell_type": "code",
   "execution_count": 18,
   "id": "5d63dbaf-2b28-49d3-b354-3511b2b7cdb4",
   "metadata": {},
   "outputs": [
    {
     "data": {
      "text/plain": [
       "'the lying cable biceps curl is a cable exercise that targets the biceps it is performed lying on the back either on a bench or the ground with the feet facing toward a cable stack this movement is usually performed for moderate to high reps for a burn and pump as part of an armfocused workout'"
      ]
     },
     "execution_count": 18,
     "metadata": {},
     "output_type": "execute_result"
    }
   ],
   "source": [
    "split_datasets['train']['answer'][1]"
   ]
  },
  {
   "cell_type": "code",
   "execution_count": 19,
   "id": "03e781cb-83f5-41fd-88e4-7130291faab5",
   "metadata": {},
   "outputs": [
    {
     "data": {
      "text/plain": [
       "'Question: tell be about lying cable biceps curl Answer: the lying cable biceps curl is a cable exercise that targets the biceps it is performed lying on the back either on a bench or the ground with the feet facing toward a cable stack this movement is usually performed for moderate to high reps for a burn and pump as part of an armfocused workout <|endoftext|>'"
      ]
     },
     "execution_count": 19,
     "metadata": {},
     "output_type": "execute_result"
    }
   ],
   "source": [
    "split_datasets['train']['text'][1]"
   ]
  },
  {
   "cell_type": "markdown",
   "id": "5a270667-e19c-4e62-a4c1-8c6a43405c0e",
   "metadata": {},
   "source": [
    "## Tokenizing question and answer"
   ]
  },
  {
   "cell_type": "code",
   "execution_count": 20,
   "id": "69faebc0-b121-456f-a723-4aa907f16ebe",
   "metadata": {},
   "outputs": [],
   "source": [
    "def tokenize_function(examples):\n",
    "    inputs = tokenizer(examples['text'], max_length=512, truncation=True, padding=\"max_length\")\n",
    "    # Use numpy to efficiently replace pad_token_id with -100\n",
    "    labels = np.array(inputs['input_ids'], dtype=np.int64)\n",
    "    labels[labels == tokenizer.pad_token_id] = -100\n",
    "    inputs['labels'] = labels.tolist()\n",
    "    return inputs"
   ]
  },
  {
   "cell_type": "code",
   "execution_count": 21,
   "id": "23005db2-9f19-41ee-a3c1-5a2c96262a7b",
   "metadata": {},
   "outputs": [],
   "source": [
    "tokenized_datasets={}"
   ]
  },
  {
   "cell_type": "markdown",
   "id": "024c4c17-7c08-44fe-adb9-a77806c01106",
   "metadata": {},
   "source": [
    "## Tokenizing training, testing and validation dataset"
   ]
  },
  {
   "cell_type": "code",
   "execution_count": 22,
   "id": "a5c7bd6f-680c-4ff8-81eb-fa41c4319350",
   "metadata": {},
   "outputs": [],
   "source": [
    "tokenized_datasets['train']= split_datasets['train'].map(tokenize_function, batched=True,\n",
    "                                    remove_columns=['text', 'question', 'answer'])"
   ]
  },
  {
   "cell_type": "code",
   "execution_count": 23,
   "id": "743b0438-4e33-4fed-888a-89302200e3a8",
   "metadata": {},
   "outputs": [],
   "source": [
    "tokenized_datasets['test']= split_datasets['test'].map(tokenize_function, batched=True,\n",
    "                                    remove_columns=['text', 'question', 'answer'])"
   ]
  },
  {
   "cell_type": "code",
   "execution_count": 24,
   "id": "1ea98dad-3306-4a62-acd2-85fee9e656e5",
   "metadata": {},
   "outputs": [],
   "source": [
    "tokenized_datasets['validation']= split_datasets['val'].map(tokenize_function, batched=True,\n",
    "                                    remove_columns=['text', 'question', 'answer'])"
   ]
  },
  {
   "cell_type": "code",
   "execution_count": 25,
   "id": "7fc6191e-a2dc-4b59-8309-8b8117fe8318",
   "metadata": {},
   "outputs": [
    {
     "data": {
      "text/plain": [
       "{'train': Dataset({\n",
       "     features: ['input_ids', 'attention_mask', 'labels'],\n",
       "     num_rows: 2457\n",
       " }),\n",
       " 'test': Dataset({\n",
       "     features: ['input_ids', 'attention_mask', 'labels'],\n",
       "     num_rows: 274\n",
       " }),\n",
       " 'validation': Dataset({\n",
       "     features: ['input_ids', 'attention_mask', 'labels'],\n",
       "     num_rows: 274\n",
       " })}"
      ]
     },
     "execution_count": 25,
     "metadata": {},
     "output_type": "execute_result"
    }
   ],
   "source": [
    "tokenized_datasets"
   ]
  },
  {
   "cell_type": "code",
   "execution_count": 26,
   "id": "010208ea-7ed5-4706-8be6-c7dc45577730",
   "metadata": {},
   "outputs": [
    {
     "data": {
      "text/plain": [
       "dict_keys(['train', 'test', 'validation'])"
      ]
     },
     "execution_count": 26,
     "metadata": {},
     "output_type": "execute_result"
    }
   ],
   "source": [
    "tokenized_datasets.keys()"
   ]
  },
  {
   "cell_type": "markdown",
   "id": "5e53bd86-3bbb-4d62-807c-162753ed60a2",
   "metadata": {},
   "source": [
    "## Training parameter"
   ]
  },
  {
   "cell_type": "code",
   "execution_count": 27,
   "id": "aadc21f1-1a90-4c57-96ee-1c64a49ac4b4",
   "metadata": {},
   "outputs": [
    {
     "name": "stderr",
     "output_type": "stream",
     "text": [
      "/home/sunbeam/.local/lib/python3.10/site-packages/transformers/training_args.py:1568: FutureWarning: `evaluation_strategy` is deprecated and will be removed in version 4.46 of 🤗 Transformers. Use `eval_strategy` instead\n",
      "  warnings.warn(\n"
     ]
    }
   ],
   "source": [
    "training_args = TrainingArguments(\n",
    "    output_dir=\"./gpt2-fitness-finetuned\",\n",
    "    evaluation_strategy=\"epoch\",\n",
    "    learning_rate=2e-5,\n",
    "    weight_decay=0.01,\n",
    "    num_train_epochs=3,\n",
    "    per_device_train_batch_size=2,\n",
    "    gradient_accumulation_steps=4,\n",
    "    fp16=torch.cuda.is_available(),  # Enable mixed precision if CUDA is available\n",
    "    save_strategy=\"epoch\",\n",
    "    logging_dir='./logs',\n",
    "    logging_steps=10,\n",
    "    load_best_model_at_end=True,\n",
    ")"
   ]
  },
  {
   "cell_type": "markdown",
   "id": "9dffb570-9277-49ab-8d40-5f8517af0bd7",
   "metadata": {},
   "source": [
    "## Initializing trainer"
   ]
  },
  {
   "cell_type": "code",
   "execution_count": 28,
   "id": "225a8c5c-cddb-4954-8151-edd179a2eb2d",
   "metadata": {},
   "outputs": [],
   "source": [
    "trainer = Trainer(\n",
    "    model=model,\n",
    "    args=training_args,\n",
    "    train_dataset=tokenized_datasets['train'],\n",
    "    eval_dataset=tokenized_datasets['validation'],\n",
    ")"
   ]
  },
  {
   "cell_type": "code",
   "execution_count": 29,
   "id": "3c680ccb-4ac6-4aee-882d-fc8a90df2511",
   "metadata": {},
   "outputs": [
    {
     "data": {
      "text/html": [
       "\n",
       "    <div>\n",
       "      \n",
       "      <progress value='921' max='921' style='width:300px; height:20px; vertical-align: middle;'></progress>\n",
       "      [921/921 2:54:17, Epoch 2/3]\n",
       "    </div>\n",
       "    <table border=\"1\" class=\"dataframe\">\n",
       "  <thead>\n",
       " <tr style=\"text-align: left;\">\n",
       "      <th>Epoch</th>\n",
       "      <th>Training Loss</th>\n",
       "      <th>Validation Loss</th>\n",
       "    </tr>\n",
       "  </thead>\n",
       "  <tbody>\n",
       "    <tr>\n",
       "      <td>0</td>\n",
       "      <td>2.081000</td>\n",
       "      <td>1.932665</td>\n",
       "    </tr>\n",
       "    <tr>\n",
       "      <td>1</td>\n",
       "      <td>1.386800</td>\n",
       "      <td>1.626459</td>\n",
       "    </tr>\n",
       "    <tr>\n",
       "      <td>2</td>\n",
       "      <td>1.560200</td>\n",
       "      <td>1.562353</td>\n",
       "    </tr>\n",
       "  </tbody>\n",
       "</table><p>"
      ],
      "text/plain": [
       "<IPython.core.display.HTML object>"
      ]
     },
     "metadata": {},
     "output_type": "display_data"
    },
    {
     "name": "stderr",
     "output_type": "stream",
     "text": [
      "There were missing keys in the checkpoint model loaded: ['lm_head.weight'].\n"
     ]
    },
    {
     "data": {
      "text/plain": [
       "TrainOutput(global_step=921, training_loss=1.8979219083030112, metrics={'train_runtime': 10468.268, 'train_samples_per_second': 0.704, 'train_steps_per_second': 0.088, 'total_flos': 1924677107712000.0, 'train_loss': 1.8979219083030112, 'epoch': 2.997558991049634})"
      ]
     },
     "execution_count": 29,
     "metadata": {},
     "output_type": "execute_result"
    }
   ],
   "source": [
    "trainer.train()"
   ]
  },
  {
   "cell_type": "code",
   "execution_count": 30,
   "id": "c11c727f-6387-4e4c-adc8-c4105a78ffb9",
   "metadata": {},
   "outputs": [
    {
     "data": {
      "text/plain": [
       "('./chatbot_model_2/tokenizer_config.json',\n",
       " './chatbot_model_2/special_tokens_map.json',\n",
       " './chatbot_model_2/vocab.json',\n",
       " './chatbot_model_2/merges.txt',\n",
       " './chatbot_model_2/added_tokens.json',\n",
       " './chatbot_model_2/tokenizer.json')"
      ]
     },
     "execution_count": 30,
     "metadata": {},
     "output_type": "execute_result"
    }
   ],
   "source": [
    "model.save_pretrained('./chatbot_model_2')\n",
    "tokenizer.save_pretrained('./chatbot_model_2')"
   ]
  },
  {
   "cell_type": "code",
   "execution_count": null,
   "id": "8e7f25c4-a678-475f-b697-94365fb2187f",
   "metadata": {},
   "outputs": [],
   "source": []
  }
 ],
 "metadata": {
  "kernelspec": {
   "display_name": "Python 3 (ipykernel)",
   "language": "python",
   "name": "python3"
  },
  "language_info": {
   "codemirror_mode": {
    "name": "ipython",
    "version": 3
   },
   "file_extension": ".py",
   "mimetype": "text/x-python",
   "name": "python",
   "nbconvert_exporter": "python",
   "pygments_lexer": "ipython3",
   "version": "3.10.12"
  }
 },
 "nbformat": 4,
 "nbformat_minor": 5
}
