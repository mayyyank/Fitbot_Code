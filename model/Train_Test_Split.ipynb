{
 "cells": [
  {
   "cell_type": "code",
   "execution_count": 1,
   "id": "7e42ab58-ee92-4aae-9421-bd2291442792",
   "metadata": {},
   "outputs": [],
   "source": [
    "import numpy as np\n",
    "import pandas as pd\n"
   ]
  },
  {
   "cell_type": "code",
   "execution_count": 2,
   "id": "76ce2479-4aa3-4198-97a4-742ac9b5452a",
   "metadata": {},
   "outputs": [],
   "source": [
    "data=pd.read_csv('Cleaned_Fitness_chatbot.csv')"
   ]
  },
  {
   "cell_type": "code",
   "execution_count": 3,
   "id": "616cb476-0be3-48c6-987a-aa4a556fca80",
   "metadata": {},
   "outputs": [
    {
     "data": {
      "text/html": [
       "<div>\n",
       "<style scoped>\n",
       "    .dataframe tbody tr th:only-of-type {\n",
       "        vertical-align: middle;\n",
       "    }\n",
       "\n",
       "    .dataframe tbody tr th {\n",
       "        vertical-align: top;\n",
       "    }\n",
       "\n",
       "    .dataframe thead th {\n",
       "        text-align: right;\n",
       "    }\n",
       "</style>\n",
       "<table border=\"1\" class=\"dataframe\">\n",
       "  <thead>\n",
       "    <tr style=\"text-align: right;\">\n",
       "      <th></th>\n",
       "      <th>question</th>\n",
       "      <th>answer</th>\n",
       "    </tr>\n",
       "  </thead>\n",
       "  <tbody>\n",
       "    <tr>\n",
       "      <th>0</th>\n",
       "      <td>can you recommend effective ab exercises</td>\n",
       "      <td>planks bicycle crunches and leg raises are gre...</td>\n",
       "    </tr>\n",
       "    <tr>\n",
       "      <th>1</th>\n",
       "      <td>what are some effective strategies for managin...</td>\n",
       "      <td>make time for relaxation take time to catch yo...</td>\n",
       "    </tr>\n",
       "    <tr>\n",
       "      <th>2</th>\n",
       "      <td>how can i incorporate regular movement and phy...</td>\n",
       "      <td>take the stairs instead of the elevator whenev...</td>\n",
       "    </tr>\n",
       "    <tr>\n",
       "      <th>3</th>\n",
       "      <td>are there any specific strategies for maintain...</td>\n",
       "      <td>eat a healthy diet eating a healthy diet rich ...</td>\n",
       "    </tr>\n",
       "    <tr>\n",
       "      <th>4</th>\n",
       "      <td>how can i manage stress and maintain a healthy...</td>\n",
       "      <td>manage your time wisely prioritize your tasks ...</td>\n",
       "    </tr>\n",
       "  </tbody>\n",
       "</table>\n",
       "</div>"
      ],
      "text/plain": [
       "                                            question  \\\n",
       "0           can you recommend effective ab exercises   \n",
       "1  what are some effective strategies for managin...   \n",
       "2  how can i incorporate regular movement and phy...   \n",
       "3  are there any specific strategies for maintain...   \n",
       "4  how can i manage stress and maintain a healthy...   \n",
       "\n",
       "                                              answer  \n",
       "0  planks bicycle crunches and leg raises are gre...  \n",
       "1  make time for relaxation take time to catch yo...  \n",
       "2  take the stairs instead of the elevator whenev...  \n",
       "3  eat a healthy diet eating a healthy diet rich ...  \n",
       "4  manage your time wisely prioritize your tasks ...  "
      ]
     },
     "execution_count": 3,
     "metadata": {},
     "output_type": "execute_result"
    }
   ],
   "source": [
    "data.head()"
   ]
  },
  {
   "cell_type": "code",
   "execution_count": 4,
   "id": "b5a7ecf6-7020-471b-9c11-8425270f554e",
   "metadata": {},
   "outputs": [
    {
     "data": {
      "text/plain": [
       "question    0\n",
       "answer      0\n",
       "dtype: int64"
      ]
     },
     "execution_count": 4,
     "metadata": {},
     "output_type": "execute_result"
    }
   ],
   "source": [
    "data.isna().sum()"
   ]
  },
  {
   "cell_type": "code",
   "execution_count": 5,
   "id": "126ec68f-bfe4-42b6-89bd-c0afe10114f1",
   "metadata": {},
   "outputs": [
    {
     "data": {
      "text/plain": [
       "False    2731\n",
       "Name: count, dtype: int64"
      ]
     },
     "execution_count": 5,
     "metadata": {},
     "output_type": "execute_result"
    }
   ],
   "source": [
    "bool=data.duplicated()\n",
    "bool.value_counts()"
   ]
  },
  {
   "cell_type": "code",
   "execution_count": 6,
   "id": "8bb97baa-6501-4f38-b401-6bf4813cf078",
   "metadata": {},
   "outputs": [],
   "source": [
    "from sklearn.model_selection import train_test_split\n",
    "\n",
    "train,test=train_test_split(data,train_size=0.9,random_state=42)"
   ]
  },
  {
   "cell_type": "code",
   "execution_count": 7,
   "id": "4773e3bf-3033-4e40-a7ac-7cff65f854a9",
   "metadata": {},
   "outputs": [
    {
     "data": {
      "text/plain": [
       "(2731, 2)"
      ]
     },
     "execution_count": 7,
     "metadata": {},
     "output_type": "execute_result"
    }
   ],
   "source": [
    "data.shape"
   ]
  },
  {
   "cell_type": "code",
   "execution_count": 8,
   "id": "6202e891-013a-4d24-b370-22b3eb9729c9",
   "metadata": {},
   "outputs": [
    {
     "data": {
      "text/plain": [
       "(2457, 2)"
      ]
     },
     "execution_count": 8,
     "metadata": {},
     "output_type": "execute_result"
    }
   ],
   "source": [
    "train.shape"
   ]
  },
  {
   "cell_type": "code",
   "execution_count": 9,
   "id": "1fa4ae8b-7ec1-4479-8be6-b640a2c3f866",
   "metadata": {},
   "outputs": [
    {
     "data": {
      "text/plain": [
       "(274, 2)"
      ]
     },
     "execution_count": 9,
     "metadata": {},
     "output_type": "execute_result"
    }
   ],
   "source": [
    "test.shape"
   ]
  },
  {
   "cell_type": "code",
   "execution_count": 10,
   "id": "1ade2802-ffd3-45d5-a27d-92a3a1eca9f9",
   "metadata": {},
   "outputs": [],
   "source": [
    "train.to_csv('training.csv',index=False)"
   ]
  },
  {
   "cell_type": "code",
   "execution_count": 11,
   "id": "1ea2d22f-549b-4569-9754-35657d49f4e3",
   "metadata": {},
   "outputs": [],
   "source": [
    "test.to_csv('testing.csv',index=False)"
   ]
  },
  {
   "cell_type": "code",
   "execution_count": null,
   "id": "77283191-ae63-4fe1-aef0-f68d3ff7405e",
   "metadata": {},
   "outputs": [],
   "source": []
  }
 ],
 "metadata": {
  "kernelspec": {
   "display_name": "Python 3 (ipykernel)",
   "language": "python",
   "name": "python3"
  },
  "language_info": {
   "codemirror_mode": {
    "name": "ipython",
    "version": 3
   },
   "file_extension": ".py",
   "mimetype": "text/x-python",
   "name": "python",
   "nbconvert_exporter": "python",
   "pygments_lexer": "ipython3",
   "version": "3.10.12"
  }
 },
 "nbformat": 4,
 "nbformat_minor": 5
}
