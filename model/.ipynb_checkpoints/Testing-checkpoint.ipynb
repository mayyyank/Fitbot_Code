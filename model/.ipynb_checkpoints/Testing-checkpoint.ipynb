{
 "cells": [
  {
   "cell_type": "code",
   "execution_count": 1,
   "id": "058856f9-fef1-4060-a5c8-0efd96399130",
   "metadata": {},
   "outputs": [],
   "source": [
    "from transformers import GPT2LMHeadModel,GPT2TokenizerFast,pipeline\n",
    "import pickle\n",
    "import torch"
   ]
  },
  {
   "cell_type": "markdown",
   "id": "9f09f0eb-4d3f-49c7-a0a5-425819356e67",
   "metadata": {},
   "source": [
    "## Loading model"
   ]
  },
  {
   "cell_type": "code",
   "execution_count": 2,
   "id": "5286bb30-2e0b-4221-8069-d28524c3ba7f",
   "metadata": {},
   "outputs": [],
   "source": [
    "model='chatbot_model_2'\n",
    "model_1=GPT2LMHeadModel.from_pretrained(model)\n",
    "tokenizer_1=GPT2TokenizerFast.from_pretrained(model)"
   ]
  },
  {
   "cell_type": "code",
   "execution_count": 3,
   "id": "6e43450b-0b34-4e98-915b-65d318664bfa",
   "metadata": {},
   "outputs": [
    {
     "name": "stdout",
     "output_type": "stream",
     "text": [
      "using device : cpu\n"
     ]
    }
   ],
   "source": [
    "device=\"cuda\" if torch.cuda.is_available() else \"cpu\"\n",
    "print(f\"using device : {device}\")\n",
    "\n",
    "def load_model_and_tokenizer(model_path):\n",
    "    tokenizer=GPT2TokenizerFast.from_pretrained(model_path)\n",
    "    model=GPT2LMHeadModel.from_pretrained(model_path).to(device)\n",
    "    return model,tokenizer"
   ]
  },
  {
   "cell_type": "code",
   "execution_count": 4,
   "id": "a99b9688-23be-43ae-b5e1-645b5dc0df42",
   "metadata": {},
   "outputs": [
    {
     "ename": "NameError",
     "evalue": "name 'GPT2okenizerFast' is not defined",
     "output_type": "error",
     "traceback": [
      "\u001b[0;31m---------------------------------------------------------------------------\u001b[0m",
      "\u001b[0;31mNameError\u001b[0m                                 Traceback (most recent call last)",
      "Cell \u001b[0;32mIn[4], line 2\u001b[0m\n\u001b[1;32m      1\u001b[0m model_path\u001b[38;5;241m=\u001b[39m\u001b[38;5;124m\"\u001b[39m\u001b[38;5;124mchatbot_model_2\u001b[39m\u001b[38;5;124m\"\u001b[39m\n\u001b[0;32m----> 2\u001b[0m model,tokenizer\u001b[38;5;241m=\u001b[39m\u001b[43mload_model_and_tokenizer\u001b[49m\u001b[43m(\u001b[49m\u001b[43mmodel_path\u001b[49m\u001b[43m)\u001b[49m\n",
      "Cell \u001b[0;32mIn[3], line 5\u001b[0m, in \u001b[0;36mload_model_and_tokenizer\u001b[0;34m(model_path)\u001b[0m\n\u001b[1;32m      4\u001b[0m \u001b[38;5;28;01mdef\u001b[39;00m \u001b[38;5;21mload_model_and_tokenizer\u001b[39m(model_path):\n\u001b[0;32m----> 5\u001b[0m     tokenizer\u001b[38;5;241m=\u001b[39m\u001b[43mGPT2okenizerFast\u001b[49m\u001b[38;5;241m.\u001b[39mfrom_pretrained(model_path)\n\u001b[1;32m      6\u001b[0m     model\u001b[38;5;241m=\u001b[39mGPT2LMHeadModel\u001b[38;5;241m.\u001b[39mfrom_pretrained(model_path)\u001b[38;5;241m.\u001b[39mto(device)\n\u001b[1;32m      7\u001b[0m     \u001b[38;5;28;01mreturn\u001b[39;00m model,tokenizer\n",
      "\u001b[0;31mNameError\u001b[0m: name 'GPT2okenizerFast' is not defined"
     ]
    }
   ],
   "source": [
    "model_path=\"chatbot_model_2\"\n",
    "model,tokenizer=load_model_and_tokenizer(model_path)"
   ]
  },
  {
   "cell_type": "code",
   "execution_count": 5,
   "id": "dafec8e9-08fd-4e7b-b498-ab77586e19a1",
   "metadata": {},
   "outputs": [],
   "source": [
    "def prepare_input(tokenizer, input_text):\n",
    "    prompt = f\"Question: {input_text} Answer:\"\n",
    "    encoded_input = tokenizer(prompt, return_tensors='pt',padding=True,truncation=True,max_length=512)\n",
    "    return encoded_input.input_ids.to(device), encoded_input.attention_mask.to(device)"
   ]
  },
  {
   "cell_type": "code",
   "execution_count": 6,
   "id": "dc55a6b6-6a6a-41b6-80fd-b9e3155b1e69",
   "metadata": {},
   "outputs": [],
   "source": [
    "\n",
    "def generate_text(model, tokenizer, input_ids,attention_mask):\n",
    "    model.eval()\n",
    "    with torch.no_grad():\n",
    "        output_ids = model.generate(\n",
    "            input_ids,\n",
    "            attention_mask=attention_mask,\n",
    "            max_length=128,\n",
    "            pad_token_id=tokenizer.eos_token_id,\n",
    "            num_return_sequences=1,\n",
    "            temperature=0.7,\n",
    "            top_p=0.9,\n",
    "            repetition_penalty=1.2,\n",
    "            do_sample=True\n",
    "        )\n",
    "    return tokenizer.decode(output_ids[0], skip_special_tokens=True)"
   ]
  },
  {
   "cell_type": "code",
   "execution_count": 14,
   "id": "80054dc9-4e0f-494b-a02b-4fa48059e667",
   "metadata": {},
   "outputs": [
    {
     "name": "stdout",
     "output_type": "stream",
     "text": [
      "Trinear hydration offers several benefits including better strength flexibility and injury prevention  cardiovascular health as well as reducing the risk of chronic diseases like heart disease or stroke these are excellent tools for improving overall fitness if you dont have time to invest into mastering this sport it can be a great way to stay active long term with friends after work i recommend doing an hour per day on your schedule starting at around 5pm most days but start gradually increasing intensity over weeks end up staying consistent focusing only what matters then focus all morning every single night setting realistic goals olympic lifts include agility drills\n"
     ]
    }
   ],
   "source": [
    "input_text =\"What is tranformer in deep learning?\"\n",
    "input_ids,attention_mask = prepare_input(tokenizer, input_text)\n",
    "generated_text = generate_text(model, tokenizer, input_ids,attention_mask)\n",
    "\n",
    "# Parsing the model's response to extract only the answer\n",
    "if 'Answer:' in generated_text:\n",
    "    response = generated_text.split(\"Answer:\")[1].strip()\n",
    "else:\n",
    "    response = \"Sorry, I couldn't understand the question.\"\n",
    "\n",
    "print(response)"
   ]
  },
  {
   "cell_type": "code",
   "execution_count": 8,
   "id": "3e579e8f-31e2-4bbf-85d5-824f4a8b16d3",
   "metadata": {},
   "outputs": [
    {
     "data": {
      "text/plain": [
       "'How do I choose between bodyweight exercises and using gym equipment?'"
      ]
     },
     "execution_count": 8,
     "metadata": {},
     "output_type": "execute_result"
    }
   ],
   "source": [
    "\"How often should I work out each week to see results?\"\n",
    "\"How can I set realistic fitness goals and stay motivated to achieve them?\"\n",
    "\"What daily habits can I adopt to improve my overall fitness and well-being?\"\n",
    "\"What are the key components of a well-rounded fitness routine?\"\n",
    "\"What are some common mistakes people make when starting their fitness journey?\"\n",
    "\"How can I effectively track my fitness progress over time?\"\n",
    "\"What are the most effective ways to build endurance and stamina?\"\n",
    "\"How do I avoid fitness plateaus and keep improving my performance?\"\n",
    "\"What are the best strategies for maintaining consistency in a fitness routine?\"\n",
    "\"What are the best strategies for maintaining consistency in a fitness routine?\"\n",
    "\"How do I know if my workout intensity is appropriate for my fitness level?\"\n",
    "\"What are some practical tips for staying fit while traveling or on a busy schedule?\"\n",
    "\"How do I choose between bodyweight exercises and using gym equipment?\"\n",
    "\"How can i improve my fitness journey?"
   ]
  },
  {
   "cell_type": "code",
   "execution_count": null,
   "id": "722576b5-47f4-40a1-8ad9-369ad6b4abd2",
   "metadata": {},
   "outputs": [],
   "source": []
  }
 ],
 "metadata": {
  "kernelspec": {
   "display_name": "Python 3 (ipykernel)",
   "language": "python",
   "name": "python3"
  },
  "language_info": {
   "codemirror_mode": {
    "name": "ipython",
    "version": 3
   },
   "file_extension": ".py",
   "mimetype": "text/x-python",
   "name": "python",
   "nbconvert_exporter": "python",
   "pygments_lexer": "ipython3",
   "version": "3.10.12"
  }
 },
 "nbformat": 4,
 "nbformat_minor": 5
}
